{
 "cells": [
  {
   "cell_type": "code",
   "execution_count": 18,
   "metadata": {
    "collapsed": true
   },
   "outputs": [],
   "source": [
    "from selenium import webdriver\n",
    "from selenium.webdriver.common.keys import Keys\n",
    "    \n",
    "def scrape_url(url):\n",
    " \n",
    "    # Load WebDriver and navigate to the page url.\n",
    "    # This will open a browser window.\n",
    "    driver = webdriver.Firefox()\n",
    "    driver.get(url)\n",
    "     \n",
    "    urls = []\n",
    " \n",
    "    # First click on More Blogs button to launch infinite scroll \n",
    "    # and then scroll to the end of the table by sending Page Down keypresses to\n",
    "    # the browser window.\n",
    "    try:\n",
    "        driver.find_element_by_id('more-blog-scroll').click()\n",
    "    except:\n",
    "        pass\n",
    "\n",
    "    i = 0\n",
    "    while i < 100:\n",
    "        # Find the first element on the page, so we can scroll down using the\n",
    "        # element object's send_keys() method\n",
    "        elem = driver.find_element_by_tag_name('a')\n",
    "        elem.send_keys(Keys.PAGE_DOWN)\n",
    "        i += 1\n",
    "        \n",
    "    # Once the whole table has loaded, grab all the visible links.    \n",
    "    blog_divs = driver.find_elements_by_class_name('directory-blog')\n",
    "    for blog in blog_divs:\n",
    "        link = blog.find_element_by_xpath('.//a')\n",
    "        urls.append(link.get_attribute('href'))\n",
    "         \n",
    "    driver.quit()\n",
    "           \n",
    "    return urls"
   ]
  },
  {
   "cell_type": "code",
   "execution_count": 18,
   "metadata": {
    "collapsed": true
   },
   "outputs": [
    {
     "data": {
      "text/plain": [
       "['http://hypem.com/blog/filles+sourires/358',\n",
       " 'http://hypem.com/blog/here+comes+the+flood/902',\n",
       " 'http://hypem.com/blog/gobsmag/22177',\n",
       " 'http://hypem.com/blog/the+jackplug/12427',\n",
       " 'http://hypem.com/blog/the+find/19712']"
      ]
     },
     "execution_count": 18,
     "metadata": {},
     "output_type": "execute_result"
    }
   ],
   "source": [
    "scrape_url(\"http://hypem.com/blogs/country/NL\")"
   ]
  },
  {
   "cell_type": "code",
   "execution_count": 9,
   "metadata": {
    "collapsed": true
   },
   "outputs": [],
   "source": [
    "def scrape_countries():\n",
    "    driver = webdriver.Firefox()\n",
    "    driver.get('http://hypem.com/blogs')\n",
    "     \n",
    "    urls = []\n",
    "    \n",
    "    country_containers = driver.find_elements_by_id('directory-countries')\n",
    "    \n",
    "    for tag in country_containers:\n",
    "        links = tag.find_elements_by_xpath('.//li/a')\n",
    "        for link in links:\n",
    "            urls.append(link.get_attribute('href'))\n",
    "        \n",
    "    driver.quit()\n",
    "    \n",
    "    return urls"
   ]
  },
  {
   "cell_type": "code",
   "execution_count": 7,
   "metadata": {
    "collapsed": false
   },
   "outputs": [],
   "source": [
    "country_urls = scrape_countries()"
   ]
  },
  {
   "cell_type": "code",
   "execution_count": 20,
   "metadata": {
    "collapsed": false
   },
   "outputs": [],
   "source": [
    "blog_dict = {}\n",
    "for url in country_urls:\n",
    "    blog_dict[url[-2:]] = scrape_url(url)"
   ]
  },
  {
   "cell_type": "code",
   "execution_count": 29,
   "metadata": {
    "collapsed": true
   },
   "outputs": [
    {
     "name": "stdout",
     "output_type": "stream",
     "text": [
      "MX 6\n",
      "BR 6\n",
      "CA 26\n",
      "IE 12\n",
      "FR 26\n",
      "DK 8\n",
      "RU 3\n",
      "AU 30\n",
      "IT 11\n",
      "SE 9\n",
      "US 194\n",
      "GB 123\n",
      "DE 39\n",
      "ES 10\n",
      "NL 5\n",
      "Total: 508\n"
     ]
    }
   ],
   "source": [
    "total = 0\n",
    "for country in blog_dict:\n",
    "    print(country, len(blog_dict[country]))\n",
    "    total += len(blog_dict[country])\n",
    "print('Total:', total)"
   ]
  },
  {
   "cell_type": "code",
   "execution_count": 10,
   "metadata": {
    "collapsed": true
   },
   "outputs": [],
   "source": [
    "def scrape_genres():\n",
    "    driver = webdriver.Firefox()\n",
    "    driver.get('http://hypem.com/blogs')\n",
    "     \n",
    "    urls = []\n",
    "    \n",
    "    flag = True\n",
    "    \n",
    "    while flag:\n",
    "        genre_container = driver.find_element_by_id('directory-tags')\n",
    "        links = genre_container.find_elements_by_xpath('.//li/a')\n",
    "        \n",
    "        for link in links:\n",
    "            print(link.get_attribute('href'))\n",
    "            urls.append(link.get_attribute('href'))\n",
    "        \n",
    "        try:\n",
    "            driver.find_element_by_id('showalltags').click()\n",
    "        except:\n",
    "            flag = False\n",
    "    \n",
    "    driver.quit()\n",
    "    \n",
    "    return urls"
   ]
  },
  {
   "cell_type": "code",
   "execution_count": 11,
   "metadata": {
    "collapsed": false
   },
   "outputs": [],
   "source": [
    "with open('links.txt') as f:\n",
    "    links = [line.rstrip('\\n') for line in f]"
   ]
  },
  {
   "cell_type": "code",
   "execution_count": 22,
   "metadata": {
    "collapsed": false
   },
   "outputs": [
    {
     "data": {
      "text/plain": [
       "562"
      ]
     },
     "execution_count": 22,
     "metadata": {},
     "output_type": "execute_result"
    }
   ],
   "source": [
    "len(list(set(all_blogs)))"
   ]
  },
  {
   "cell_type": "code",
   "execution_count": 50,
   "metadata": {
    "collapsed": true
   },
   "outputs": [],
   "source": [
    "def scrape_all_blogs(search_char):\n",
    " \n",
    "    # Load WebDriver and navigate to the page url.\n",
    "    # This will open a browser window.\n",
    "    driver = webdriver.Firefox()\n",
    "    driver.get('http://hypem.com/blogs')\n",
    "    \n",
    "    urls = []\n",
    "    \n",
    "    # First put a letter in search box and press enter — emulate this actions\n",
    "    \n",
    "    inputElement = driver.find_element_by_id('blog-directory-search')\n",
    "    inputElement.send_keys(search_char)\n",
    "    inputElement.send_keys(Keys.ENTER)\n",
    "\n",
    "    i = 0\n",
    "    while i < 30:\n",
    "        \n",
    "        # Then click on More Blogs button to launch infinite scroll \n",
    "        # scroll to the end of the table by sending javascript\n",
    "        try:\n",
    "            driver.find_element_by_id('more-blog-scroll').click()\n",
    "        except:\n",
    "            pass\n",
    "        # Send script that will scroll down to the bottom\n",
    "        driver.implicitly_wait(1)\n",
    "        driver.execute_script(\"window.scrollTo(0, document.body.scrollHeight);\")\n",
    "        i += 1\n",
    "        \n",
    "    # Once the whole table has loaded, grab all the visible links.    \n",
    "    blog_divs = driver.find_elements_by_class_name('directory-blog')\n",
    "    for blog in blog_divs:\n",
    "        link = blog.find_element_by_xpath('.//a')\n",
    "        urls.append(link.get_attribute('href'))\n",
    "         \n",
    "    driver.quit()\n",
    "           \n",
    "    return urls"
   ]
  },
  {
   "cell_type": "code",
   "execution_count": 48,
   "metadata": {
    "collapsed": false
   },
   "outputs": [],
   "source": [
    "import string\n",
    "search_string = string.ascii_lowercase + string.digits\n",
    "\n",
    "all_blogs = []"
   ]
  },
  {
   "cell_type": "code",
   "execution_count": 56,
   "metadata": {
    "collapsed": false
   },
   "outputs": [],
   "source": [
    "for char in search_string[24:]:\n",
    "    all_blogs += scrape_all_blogs(char)"
   ]
  },
  {
   "cell_type": "code",
   "execution_count": 59,
   "metadata": {
    "collapsed": true
   },
   "outputs": [],
   "source": [
    "listfile = open('blog_list.txt', 'a')\n",
    "for item in sorted(list(set(all_blogs))):\n",
    "  listfile.write(\"%s\\n\" % item)"
   ]
  },
  {
   "cell_type": "code",
   "execution_count": null,
   "metadata": {
    "collapsed": true
   },
   "outputs": [],
   "source": []
  }
 ],
 "metadata": {
  "kernelspec": {
   "display_name": "Python 3",
   "language": "python",
   "name": "python3"
  },
  "language_info": {
   "codemirror_mode": {
    "name": "ipython",
    "version": 3
   },
   "file_extension": ".py",
   "mimetype": "text/x-python",
   "name": "python",
   "nbconvert_exporter": "python",
   "pygments_lexer": "ipython3",
   "version": "3.4.3"
  }
 },
 "nbformat": 4,
 "nbformat_minor": 0
}
